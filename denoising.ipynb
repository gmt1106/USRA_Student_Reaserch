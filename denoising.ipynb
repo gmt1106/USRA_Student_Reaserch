{
 "cells": [
  {
   "cell_type": "markdown",
   "metadata": {},
   "source": [
    "Code for **\"Blind restoration of a JPEG-compressed image\"** and **\"Blind image denoising\"** figures. Select `fname` below to switch between the two.\n",
    "\n",
    "- To see overfitting set `num_iter` to a large value."
   ]
  },
  {
   "cell_type": "code",
   "execution_count": null,
   "metadata": {},
   "outputs": [],
   "source": [
    "\"\"\"\n",
    "*Uncomment if running on colab* \n",
    "Set Runtime -> Change runtime type -> Under Hardware Accelerator select GPU in Google Colab \n",
    "\"\"\"\n",
    "# !git clone https://github.com/ubc-vision/juho-usra.git\n",
    "# !mv juho-usra/* ./"
   ]
  },
  {
   "cell_type": "markdown",
   "metadata": {},
   "source": [
    "# Import libs"
   ]
  },
  {
   "cell_type": "code",
   "execution_count": null,
   "metadata": {},
   "outputs": [],
   "source": [
    "from __future__ import print_function\n",
    "import matplotlib.pyplot as plt\n",
    "%matplotlib inline\n",
    "\n",
    "import os\n",
    "\n",
    "import numpy as np\n",
    "\n",
    "import torch\n",
    "import torch.nn as nn\n",
    "import torch.optim\n",
    "\n",
    "## compare_psnr is renamed to peak_signal_noise_ratio\n",
    "## from skimage.measure import compare_psnr\n",
    "from skimage.metrics import peak_signal_noise_ratio\n",
    "\n",
    "# use tensorboard with pytorch\n",
    "from torch.utils.tensorboard import SummaryWriter\n",
    "\n",
    "from models import *\n",
    "from utils.denoising_utils import *\n",
    "\n",
    "torch.backends.cudnn.enabled = True\n",
    "torch.backends.cudnn.benchmark =True\n",
    "dtype = None\n",
    "if torch.cuda.is_available():\n",
    "    dtype = torch.cuda.FloatTensor\n",
    "else:\n",
    "    dtype = torch.FloatTensor\n",
    "\n",
    "imsize =-1\n",
    "PLOT = True\n",
    "sigma = 25\n",
    "sigma_ = sigma/255."
   ]
  },
  {
   "cell_type": "code",
   "execution_count": null,
   "metadata": {},
   "outputs": [],
   "source": [
    "# deJPEG \n",
    "fname = 'data/denoising/snail.jpg'\n",
    "\n",
    "## denoising\n",
    "# fname = 'data/denoising/F16_GT.png'"
   ]
  },
  {
   "cell_type": "markdown",
   "metadata": {},
   "source": [
    "# Load image"
   ]
  },
  {
   "cell_type": "code",
   "execution_count": null,
   "metadata": {},
   "outputs": [],
   "source": [
    "if fname == 'data/denoising/snail.jpg':\n",
    "    img_noisy_pil = crop_image(get_image(fname, imsize)[0], d=32)\n",
    "    img_noisy_np = pil_to_np(img_noisy_pil)\n",
    "    \n",
    "    # As we don't have ground truth\n",
    "    img_pil = img_noisy_pil\n",
    "    img_np = img_noisy_np\n",
    "    \n",
    "    if PLOT:\n",
    "        plot_image_grid([img_np], 4, 5);\n",
    "        \n",
    "elif fname == 'data/denoising/F16_GT.png':\n",
    "    # Add synthetic noise\n",
    "    img_pil = crop_image(get_image(fname, imsize)[0], d=32)\n",
    "    img_np = pil_to_np(img_pil)\n",
    "    \n",
    "    img_noisy_pil, img_noisy_np = get_noisy_image(img_np, sigma_)\n",
    "    \n",
    "    if PLOT:\n",
    "        plot_image_grid([img_np, img_noisy_np], 4, 6);\n",
    "else:\n",
    "    assert False"
   ]
  },
  {
   "cell_type": "markdown",
   "metadata": {},
   "source": [
    "# Print out layers in Pytorch Sequential()"
   ]
  },
  {
   "cell_type": "code",
   "execution_count": null,
   "metadata": {},
   "outputs": [],
   "source": [
    "######## To print layer outputs ########\n",
    "class PrintLayer(nn.Module):\n",
    "    def __init__(self):\n",
    "        super(PrintLayer, self).__init__()\n",
    "                    \n",
    "    def forward(self, x):\n",
    "        # Do your print / debug stuff here\n",
    "        print(x)\n",
    "        return x\n",
    "\n",
    "########################################\n",
    "\n",
    "printer = PrintLayer()"
   ]
  },
  {
   "cell_type": "markdown",
   "metadata": {},
   "source": [
    "# Setup"
   ]
  },
  {
   "cell_type": "code",
   "execution_count": null,
   "metadata": {},
   "outputs": [],
   "source": [
    "INPUT = 'noise' # 'meshgrid'\n",
    "pad = 'reflection'\n",
    "OPT_OVER = 'net' # 'net,input'\n",
    "\n",
    "reg_noise_std = 1./30. # set to 1./20. for sigma=50\n",
    "LR = 0.01\n",
    "\n",
    "show_every = 100\n",
    "exp_weight=0.99\n",
    "\n",
    "if fname == 'data/denoising/snail.jpg':\n",
    "    num_iter = 2400\n",
    "    input_depth = 3\n",
    "    figsize = 5 \n",
    "    \n",
    "    net = Net(\n",
    "                input_depth, 3, \n",
    "                channels_down = [8, 16, 32, 64, 128], \n",
    "                channels_up   = [8, 16, 32, 64, 128],\n",
    "                channels_skip = [0, 0, 0, 4, 4], \n",
    "                kernel_size_down = [3, 3, 3, 3, 3],\n",
    "                kernel_size_up = [3, 3, 3, 3, 3],\n",
    "                upsample_mode='bilinear',\n",
    "                need_sigmoid=True, need_bias=True, pad=pad)\n",
    "\n",
    "    net = net.type(dtype)\n",
    "\n",
    "elif fname == 'data/denoising/F16_GT.png':\n",
    "    num_iter = 3000\n",
    "    input_depth = 32 \n",
    "    figsize = 4 \n",
    "    \n",
    "    net = Net (\n",
    "                input_depth, 3, \n",
    "                channels_down = [128, 128, 128, 128, 128],\n",
    "                channels_up = [128, 128, 128, 128, 128],\n",
    "                channels_skip = [4, 4, 4, 4, 4],\n",
    "                kernel_size_down = [3, 3, 3, 3, 3],\n",
    "                kernel_size_up = [3, 3, 3, 3, 3],\n",
    "                upsample_mode = 'bilinear',\n",
    "                need_sigmoid=True, need_bias=True, pad=pad)\n",
    "\n",
    "else:\n",
    "    assert False\n",
    "\n",
    "# to print out the dimension of each layer of an neural network \n",
    "printer(net)\n",
    "\n",
    "# Compute number of parameters\n",
    "s  = sum([np.prod(list(p.size())) for p in net.parameters()]); \n",
    "print ('Number of params: %d' % s)"
   ]
  },
  {
   "cell_type": "markdown",
   "metadata": {},
   "source": [
    "# Train"
   ]
  },
  {
   "cell_type": "code",
   "execution_count": null,
   "metadata": {
    "scrolled": true
   },
   "outputs": [],
   "source": [
    "net_input = get_noise(input_depth, INPUT, (img_pil.size[1], img_pil.size[0])).type(dtype).detach()\n",
    "img_noisy_torch = np_to_torch(img_noisy_np).type(dtype)\n",
    "\n",
    "net_input_saved = net_input.detach().clone()\n",
    "noise = net_input.detach().clone()\n",
    "out_avg = None\n",
    "last_net = None\n",
    "psrn_noisy_last = 0\n",
    "\n",
    "\n",
    "def train():\n",
    "    global out_avg, psrn_noisy_last, last_net, net_input\n",
    "\n",
    "    # Create optimizier\n",
    "    parameters = get_params(OPT_OVER, net, net_input)\n",
    "    optimizer = torch.optim.Adam(parameters, lr=LR)\n",
    "\n",
    "    # Loss\n",
    "    loss = nn.MSELoss().type(dtype)    \n",
    "\n",
    "    # tensorboard log directory \n",
    "    log_dir = \"./logs/denoising/train\"\n",
    "\n",
    "    # Create summary writer\n",
    "    writer = SummaryWriter(log_dir)\n",
    "\n",
    "    # Create log directory and save directory if it does not exist\n",
    "    if not os.path.exists(log_dir):\n",
    "        os.makedirs(log_dir)\n",
    "\n",
    "    # Training loop\n",
    "    for i in range(num_iter):\n",
    "        \n",
    "        if reg_noise_std > 0:\n",
    "            net_input = net_input_saved + (noise.normal_() * reg_noise_std)\n",
    "        \n",
    "        # Apply the model to obtain scores (forward pass)\n",
    "        out = net.forward(net_input)\n",
    "        \n",
    "        # Smoothing \n",
    "        if out_avg is None:\n",
    "            out_avg = out.detach()\n",
    "        else:\n",
    "            out_avg = out_avg * exp_weight + out.detach() * (1 - exp_weight)\n",
    "\n",
    "        # Compute the loss        \n",
    "        total_loss = loss(out, img_noisy_torch)\n",
    "        # Compute gradients\n",
    "        total_loss.backward()\n",
    "        # Update parameters\n",
    "        optimizer.step()\n",
    "        # Zero the parameter gradients in the optimizer\n",
    "        optimizer.zero_grad()\n",
    "            \n",
    "        psrn_noisy = peak_signal_noise_ratio(img_noisy_np, out.detach().cpu().numpy()[0]) \n",
    "        psrn_gt    = peak_signal_noise_ratio(img_np, out.detach().cpu().numpy()[0]) \n",
    "        psrn_gt_sm = peak_signal_noise_ratio(img_np, out_avg.detach().cpu().numpy()[0]) \n",
    "        \n",
    "        # Image plot and monitor results\n",
    "        if  PLOT and i % show_every == 0:\n",
    "            # Write output image to tensorboard, using keywords `image_output`\n",
    "            writer.add_image(\"image_output\", out, global_step=i, dataformats='NCHW')\n",
    "            # Write loss to tensorboard, using keywords `loss`\n",
    "            writer.add_scalar(\"loss\", total_loss, global_step=i)\n",
    "        \n",
    "        # Backtracking\n",
    "        if i % show_every:\n",
    "            if psrn_noisy - psrn_noisy_last < -5: \n",
    "                print('Falling back to previous checkpoint.')\n",
    "\n",
    "                for new_param, net_param in zip(last_net, net.parameters()):\n",
    "                    net_param.data.copy_(new_param.cuda())\n",
    "\n",
    "                return total_loss*0\n",
    "            else:\n",
    "                last_net = [x.detach().cpu() for x in net.parameters()]\n",
    "                psrn_noisy_last = psrn_noisy\n",
    "\n",
    "        \n",
    "train()"
   ]
  },
  {
   "cell_type": "markdown",
   "metadata": {},
   "source": [
    "# Result"
   ]
  },
  {
   "cell_type": "code",
   "execution_count": null,
   "metadata": {},
   "outputs": [],
   "source": [
    "out_np = torch_to_np(net(net_input))\n",
    "q = plot_image_grid([np.clip(out_np, 0, 1), img_np], factor=13);"
   ]
  }
 ],
 "metadata": {
  "kernelspec": {
   "display_name": "Python 3",
   "language": "python",
   "name": "python3"
  },
  "language_info": {
   "codemirror_mode": {
    "name": "ipython",
    "version": 3
   },
   "file_extension": ".py",
   "mimetype": "text/x-python",
   "name": "python",
   "nbconvert_exporter": "python",
   "pygments_lexer": "ipython3",
   "version": "3.7.13"
  }
 },
 "nbformat": 4,
 "nbformat_minor": 2
}

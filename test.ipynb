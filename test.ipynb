{
 "cells": [
  {
   "cell_type": "code",
   "execution_count": null,
   "metadata": {},
   "outputs": [],
   "source": [
    "\"\"\"\n",
    "*Uncomment if running on colab* \n",
    "Set Runtime -> Change runtime type -> Under Hardware Accelerator select GPU in Google Colab \n",
    "\"\"\"\n",
    "!git clone https://github.com/ubc-vision/juho-usra.git\n",
    "!mv juho-usra/* ./"
   ]
  },
  {
   "cell_type": "code",
   "execution_count": null,
   "metadata": {},
   "outputs": [],
   "source": [
    "import torch\n",
    "from models import *\n",
    "from torchsummary import summary\n",
    "\n",
    "######## To print layer outputs ########\n",
    "class PrintLayer(nn.Module):\n",
    "    def __init__(self):\n",
    "        super(PrintLayer, self).__init__()\n",
    "                    \n",
    "    def forward(self, x):\n",
    "        # Do your print / debug stuff here\n",
    "        print(x)\n",
    "        return x\n",
    "\n",
    "########################################\n",
    "\n",
    "printer = PrintLayer()\n",
    "\n",
    "# input:\n",
    "# w = original image width(W) // 4\n",
    "# h = original image height(H) // 4\n",
    "# c = 3\n",
    "# random with normal distribution \n",
    "input_width = 128\n",
    "input_height = 128\n",
    "\n",
    "net = ResNet()\n",
    "\n",
    "# to print out the dimension of each layer of an neural network \n",
    "printer(net)\n",
    "summary(net, (3, 128//4, 128//4))"
   ]
  }
 ],
 "metadata": {
  "interpreter": {
   "hash": "0ef3be7f0c0b8459529ee79533840b5b73ae5f82458da6e33134bc1d9f61d8b6"
  },
  "kernelspec": {
   "display_name": "Python ('cv_project')",
   "language": "python",
   "name": "python3"
  },
  "language_info": {
   "codemirror_mode": {
    "name": "ipython",
    "version": 3
   },
   "file_extension": ".py",
   "mimetype": "text/x-python",
   "name": "python",
   "nbconvert_exporter": "python",
   "pygments_lexer": "ipython3",
   "version": "3.7.13"
  },
  "orig_nbformat": 4
 },
 "nbformat": 4,
 "nbformat_minor": 2
}
